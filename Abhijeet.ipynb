{
 "cells": [
  {
   "cell_type": "markdown",
   "source": [
    "Dataset contains induced failure test data on rolling elements of a spherical roller bearing. The data include vibration records of a bearing, in normal conditions and under rolling-element-induced defects from a test bench experiment. The data are collected within the Railway Technology Research Group (CITEF) of the Polytechnic University of Madrid in Spain. These data can be used for predictive maintenance and related fault detection models."
   ],
   "metadata": {
    "collapsed": false
   }
  },
  {
   "cell_type": "code",
   "execution_count": 3,
   "outputs": [],
   "source": [
    "from scipy.io import loadmat"
   ],
   "metadata": {
    "collapsed": false
   }
  },
  {
   "cell_type": "code",
   "execution_count": 1,
   "outputs": [],
   "source": [
    "import numpy as np\n",
    "import pandas as pd\n",
    "import seaborn as sns\n",
    "import matplotlib.pyplot as plt"
   ],
   "metadata": {
    "collapsed": false
   }
  },
  {
   "cell_type": "code",
   "execution_count": 2,
   "outputs": [
    {
     "ename": "NameError",
     "evalue": "name 'loadmat' is not defined",
     "output_type": "error",
     "traceback": [
      "\u001B[0;31m---------------------------------------------------------------------------\u001B[0m",
      "\u001B[0;31mNameError\u001B[0m                                 Traceback (most recent call last)",
      "Cell \u001B[0;32mIn[2], line 1\u001B[0m\n\u001B[0;32m----> 1\u001B[0m x1 \u001B[38;5;241m=\u001B[39m \u001B[43mloadmat\u001B[49m(\u001B[38;5;124mr\u001B[39m\u001B[38;5;124m\"\u001B[39m\u001B[38;5;124mData/01_200_S1_RE_F0_R1.mat\u001B[39m\u001B[38;5;124m\"\u001B[39m)\n\u001B[1;32m      2\u001B[0m x2 \u001B[38;5;241m=\u001B[39m loadmat(\u001B[38;5;124mr\u001B[39m\u001B[38;5;124m\"\u001B[39m\u001B[38;5;124mData/02_350_S1_RE_F0_R1.mat\u001B[39m\u001B[38;5;124m\"\u001B[39m)\n\u001B[1;32m      3\u001B[0m x3 \u001B[38;5;241m=\u001B[39m loadmat(\u001B[38;5;124mr\u001B[39m\u001B[38;5;124m\"\u001B[39m\u001B[38;5;124mData/19_200_S1_RE_F2_R1.mat\u001B[39m\u001B[38;5;124m\"\u001B[39m)\n",
      "\u001B[0;31mNameError\u001B[0m: name 'loadmat' is not defined"
     ]
    }
   ],
   "source": [
    "x1 = loadmat(r\"Data/01_200_S1_RE_F0_R1.mat\")\n",
    "x2 = loadmat(r\"Data/02_350_S1_RE_F0_R1.mat\")\n",
    "x3 = loadmat(r\"Data/19_200_S1_RE_F2_R1.mat\")\n",
    "x4 = loadmat(r\"Data/28_200_S1_RE_F3_R1.mat\")\n",
    "x5 = loadmat(r\"Data/37_200_S1_RE_F4_R1.mat\")\n",
    "\n",
    "x1.keys()"
   ],
   "metadata": {
    "collapsed": false
   }
  },
  {
   "cell_type": "code",
   "execution_count": null,
   "id": "f96bedfc",
   "metadata": {},
   "outputs": [],
   "source": [
    "combined_array=np.column_stack((x1['Rod_1'], x1['Rod_2'], x1['Rod_3'], \n",
    "                                x2['Rod_1'], x2['Rod_2'], x2['Rod_3'],\n",
    "                                x3['Rod_1'], x3['Rod_2'], x3['Rod_3'],\n",
    "                                x4['Rod_1'], x4['Rod_2'], x4['Rod_3'],\n",
    "                                x5['Rod_1'], x5['Rod_2'], x5['Rod_3']\n",
    "                               ))\n",
    "\n",
    "df = pd.DataFrame(combined_array, columns = ['1Rod_1','1Rod_2','1Rod_3',\n",
    "                                             '2Rod_1','2Rod_2','2Rod_3',\n",
    "                                             '3Rod_1','3Rod_2','3Rod_3',\n",
    "                                             '4Rod_1','4Rod_2','4Rod_3',\n",
    "                                             '5Rod_1','5Rod_2','5Rod_3'\n",
    "                                            ])\n",
    "\n",
    "\n",
    "# combined_array=np.column_stack(( x1['Fs'], x2['Fs']))\n",
    "\n",
    "\n",
    "# df = pd.DataFrame(combined_array, columns = ['1_Fs','2_Fs']"
   ]
  },
  {
   "cell_type": "code",
   "execution_count": null,
   "id": "5b9f54f6",
   "metadata": {},
   "outputs": [],
   "source": [
    "df.info()"
   ]
  },
  {
   "cell_type": "code",
   "execution_count": null,
   "id": "4782960b",
   "metadata": {},
   "outputs": [],
   "source": [
    "df.describe()"
   ]
  },
  {
   "cell_type": "code",
   "execution_count": null,
   "id": "e2fce4e8",
   "metadata": {},
   "outputs": [],
   "source": [
    "df.dtypes"
   ]
  },
  {
   "cell_type": "code",
   "execution_count": null,
   "id": "d90870e4",
   "metadata": {},
   "outputs": [],
   "source": [
    "df.head()"
   ]
  },
  {
   "cell_type": "code",
   "execution_count": null,
   "id": "98b3ac95",
   "metadata": {},
   "outputs": [],
   "source": [
    "df.hist(bins=50, figsize=(20 ,15))"
   ]
  },
  {
   "cell_type": "code",
   "execution_count": null,
   "id": "fc635945",
   "metadata": {},
   "outputs": [],
   "source": [
    "from sklearn.experimental import enable_iterative_imputer\n",
    "from sklearn.impute import IterativeImputer\n",
    "from sklearn.impute import KNNImputer"
   ]
  },
  {
   "cell_type": "code",
   "execution_count": null,
   "id": "9512b82d",
   "metadata": {},
   "outputs": [],
   "source": [
    "sns.set(rc = {'figure.figsize':(25,25)})\n",
    "sns.heatmap(df.select_dtypes(['float64']).corr(),annot=True)\n",
    "plt.show()"
   ]
  },
  {
   "cell_type": "code",
   "execution_count": null,
   "id": "8579e6e5",
   "metadata": {},
   "outputs": [],
   "source": []
  }
 ],
 "metadata": {
  "kernelspec": {
   "display_name": "Python 3 (ipykernel)",
   "language": "python",
   "name": "python3"
  },
  "language_info": {
   "codemirror_mode": {
    "name": "ipython",
    "version": 3
   },
   "file_extension": ".py",
   "mimetype": "text/x-python",
   "name": "python",
   "nbconvert_exporter": "python",
   "pygments_lexer": "ipython3",
   "version": "3.10.7"
  }
 },
 "nbformat": 4,
 "nbformat_minor": 5
}
